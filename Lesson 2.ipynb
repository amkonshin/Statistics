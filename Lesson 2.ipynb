{
 "cells": [
  {
   "cell_type": "code",
   "execution_count": 1,
   "metadata": {},
   "outputs": [],
   "source": [
    "from math import factorial, exp\n"
   ]
  },
  {
   "cell_type": "code",
   "execution_count": 2,
   "metadata": {},
   "outputs": [],
   "source": [
    "def combinations(n, k):\n",
    "    return int(factorial(n) / (factorial(k) * factorial(n - k)))"
   ]
  },
  {
   "cell_type": "code",
   "execution_count": 3,
   "metadata": {},
   "outputs": [],
   "source": [
    "def binomial(n,k,p):\n",
    "    return combinations(n,k)*(p**k)*((1.0-p)**(n-k))"
   ]
  },
  {
   "cell_type": "code",
   "execution_count": 5,
   "metadata": {},
   "outputs": [],
   "source": [
    "def Poisson(lambda_, m): \n",
    "    return lambda_**m/factorial(m)* exp(-lambda_)"
   ]
  },
  {
   "cell_type": "markdown",
   "metadata": {},
   "source": [
    "1. Вероятность того, что стрелок попадет в мишень, выстрелив один раз, равна 0.8. Стрелок выстрелил 100 раз. Найдите вероятность того, что стрелок попадет в цель ровно 85 раз.\n",
    "2. Вероятность того, что лампочка перегорит в течение первого дня эксплуатации, равна 0.0004. В жилом комплексе после ремонта в один день включили 5000 новых лампочек. Какова вероятность, что ни одна из них не перегорит в первый день? Какова вероятность, что перегорят ровно две?\n",
    "3. Монету подбросили 144 раза. Какова вероятность, что орел выпадет ровно 70 раз?\n",
    "4. В первом ящике находится 10 мячей, из которых 7 - белые. Во втором ящике - 11 мячей, из которых 9 белых. Из каждого ящика вытаскивают случайным образом по два мяча. Какова вероятность того, что все мячи белые? Какова вероятность того, что ровно два мяча белые? Какова вероятность того, что хотя бы один мяч белый?"
   ]
  },
  {
   "cell_type": "markdown",
   "metadata": {},
   "source": [
    "### 1"
   ]
  },
  {
   "cell_type": "code",
   "execution_count": 6,
   "metadata": {},
   "outputs": [],
   "source": [
    "n=100\n",
    "k=85\n",
    "p=0.8"
   ]
  },
  {
   "cell_type": "code",
   "execution_count": 7,
   "metadata": {},
   "outputs": [
    {
     "name": "stdout",
     "output_type": "stream",
     "text": [
      "Вероятность попасть 85 раз из 100 равна 0.048061793700746355\n"
     ]
    }
   ],
   "source": [
    "print(f'Вероятность попасть {k} раз из 100 равна {binomial(n,k,p)}')"
   ]
  },
  {
   "cell_type": "markdown",
   "metadata": {},
   "source": [
    "### 2"
   ]
  },
  {
   "cell_type": "code",
   "execution_count": 13,
   "metadata": {},
   "outputs": [
    {
     "name": "stdout",
     "output_type": "stream",
     "text": [
      " Вероятность, что перегорит 0 лампочек равна 0.1353352832366127\n",
      " Вероятность, что перегорит 2 лампочки равна 0.2706705664732254\n"
     ]
    }
   ],
   "source": [
    "n=5000\n",
    "p=0.0004\n",
    "\n",
    "print( f' Вероятность, что перегорит 0 лампочек равна {Poisson(n*p,0)}')\n",
    "print( f' Вероятность, что перегорит 2 лампочки равна {Poisson(n*p,2)}')\n"
   ]
  },
  {
   "cell_type": "markdown",
   "metadata": {},
   "source": [
    "### 3"
   ]
  },
  {
   "cell_type": "code",
   "execution_count": 26,
   "metadata": {},
   "outputs": [
    {
     "name": "stdout",
     "output_type": "stream",
     "text": [
      "Вероятность того, что орел выпадет 70 раз при 144 бросках равна 0.06281178035144776\n"
     ]
    }
   ],
   "source": [
    "print(f'Вероятность того, что орел выпадет 70 раз при 144 бросках равна {binomial(144,70,0.5)}')"
   ]
  },
  {
   "cell_type": "markdown",
   "metadata": {},
   "source": [
    "### 4"
   ]
  },
  {
   "cell_type": "code",
   "execution_count": 29,
   "metadata": {},
   "outputs": [
    {
     "name": "stdout",
     "output_type": "stream",
     "text": [
      "Общая вероятность вытащить белый шарик из двух ящиков0.5727272727272728\n"
     ]
    }
   ],
   "source": [
    "p=7/10*9/11\n",
    "print(f'Общая вероятность вытащить белый шарик из двух ящиков {p}')"
   ]
  },
  {
   "cell_type": "code",
   "execution_count": 47,
   "metadata": {},
   "outputs": [
    {
     "name": "stdout",
     "output_type": "stream",
     "text": [
      "Вероятность того, что среди 4-х вытащенных шаров будет 4 белых равна 0.10759484324841201\n",
      "Вероятность того, что среди 4-х вытащенных шаров будет 2 белых равна 0.35930008879174924\n",
      "Вероятность того, что среди 4-х вытащенных шаров будет как минимум 1  белый, равна  0.9666711221911072\n"
     ]
    }
   ],
   "source": [
    "print(f'Вероятность того, что среди 4-х вытащенных шаров будет 4 белых равна {binomial(4,4,p)}')\n",
    "print(f'Вероятность того, что среди 4-х вытащенных шаров будет 2 белых равна {binomial(4,2,p)}')\n",
    "print(f'Вероятность того, что среди 4-х вытащенных шаров будет как минимум 1  белый, равна  {1-binomial(4,0,p)}')"
   ]
  }
 ],
 "metadata": {
  "kernelspec": {
   "display_name": "Python 3",
   "language": "python",
   "name": "python3"
  },
  "language_info": {
   "codemirror_mode": {
    "name": "ipython",
    "version": 3
   },
   "file_extension": ".py",
   "mimetype": "text/x-python",
   "name": "python",
   "nbconvert_exporter": "python",
   "pygments_lexer": "ipython3",
   "version": "3.7.4"
  }
 },
 "nbformat": 4,
 "nbformat_minor": 2
}
